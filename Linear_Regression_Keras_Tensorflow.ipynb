{
  "nbformat": 4,
  "nbformat_minor": 0,
  "metadata": {
    "colab": {
      "name": "Linear Regression_Keras Tensorflow.ipynb",
      "provenance": []
    },
    "kernelspec": {
      "name": "python3",
      "display_name": "Python 3"
    },
    "language_info": {
      "name": "python"
    },
    "accelerator": "GPU"
  },
  "cells": [
    {
      "cell_type": "markdown",
      "source": [
        "**Develop a Linear Regression model using Keras Tensorflow**\n",
        "\n",
        "Splitting \"HousingData\" dataset into different training and testing sets\n",
        "in order to examine which separation scores better. \n"
      ],
      "metadata": {
        "id": "GPmIoZ8vEbQX"
      }
    },
    {
      "cell_type": "code",
      "execution_count": 1,
      "metadata": {
        "id": "T8T42fp2Ax85"
      },
      "outputs": [],
      "source": [
        "import numpy as np\n",
        "import pandas as pd\n",
        "import math\n",
        "import os\n",
        "from sklearn.model_selection import train_test_split\n",
        "from sklearn import linear_model, metrics, preprocessing\n",
        "import matplotlib.pyplot as plt "
      ]
    },
    {
      "cell_type": "code",
      "source": [
        "#Import csv file with data\n",
        "filename = \"HousingData.csv\"\n",
        "data_multi = pd.read_csv(filename,header= None, names =[\"CRIM\",\"ZN\", \"INDUS\", \"CHAS\", \"NOX\", \"RM\", \"AGE\", \"DIS\", \"RAD\",\"TAX\", \"PTRATIO\", \"B\", \"LSTAT\", \"MEDV\"]) \n",
        "\n",
        "print (\"Total number of rows in dataset = {}\".format(data_multi.shape[0]))\n",
        "print (\"Total number of columns in dataset = {}\".format(data_multi.shape[1]))"
      ],
      "metadata": {
        "colab": {
          "base_uri": "https://localhost:8080/"
        },
        "id": "kiJOUVT_BAb9",
        "outputId": "6113f05f-6bc0-4136-b180-e9e972d62ce5"
      },
      "execution_count": 2,
      "outputs": [
        {
          "output_type": "stream",
          "name": "stdout",
          "text": [
            "Total number of rows in dataset = 507\n",
            "Total number of columns in dataset = 14\n"
          ]
        }
      ]
    },
    {
      "cell_type": "code",
      "source": [
        "#new value df\n",
        "df=data_multi \n",
        "#new value in order to fill nan values equal to 0\n",
        "df_nonnan= df.dropna() \n",
        "#new value for removing the first row with headers\n",
        "headers_del= df_nonnan.drop(df_nonnan.index[0])\n",
        "headers_del.head()\n",
        "\n",
        "temp_multi = headers_del.to_numpy(dtype=np.float64)"
      ],
      "metadata": {
        "id": "3k39WM48BAYx"
      },
      "execution_count": 3,
      "outputs": []
    },
    {
      "cell_type": "code",
      "source": [
        "#features and target values\n",
        "X_multi = temp_multi[:,:-1] # get vectors for features=X\n",
        "y_multi = temp_multi[:,-1] # get vectors for output values for MEDV(y)"
      ],
      "metadata": {
        "id": "BWJz_HOlBAV5"
      },
      "execution_count": 8,
      "outputs": []
    },
    {
      "cell_type": "markdown",
      "source": [
        "1. Splitting dataset into 90% for training set and 10% for testing set\n",
        "\n",
        "\n"
      ],
      "metadata": {
        "id": "-IaFYfGXDIhd"
      }
    },
    {
      "cell_type": "code",
      "source": [
        "#normalize features\n",
        "X_multi = preprocessing.normalize(X_multi)\n",
        "\n",
        "X_multi = np.column_stack((np.ones((X_multi.shape[0])),X_multi))\n",
        "\n",
        "#split data into training and test set\n",
        "X_train, X_test, y_train, y_test= train_test_split(X_multi,y_multi, test_size=0.10, train_size=0.90, random_state=2)\n",
        "\n",
        "#create an linear regression object\n",
        "regr_multi = linear_model.LinearRegression()\n",
        "\n",
        "#Train my model\n",
        "regr_multi.fit(X_train, y_train)\n",
        "\n",
        "#print bias\n",
        "print(\"Bias: \",regr_multi.intercept_)\n",
        "#print coeff's\n",
        "Coefficients= regr_multi.coef_\n",
        "print('Coefficients: \\n', Coefficients)"
      ],
      "metadata": {
        "colab": {
          "base_uri": "https://localhost:8080/"
        },
        "id": "Z7av1OItBALc",
        "outputId": "52477883-3473-481b-b209-81a990de2974"
      },
      "execution_count": 9,
      "outputs": [
        {
          "output_type": "stream",
          "name": "stdout",
          "text": [
            "Bias:  5.0448935512668065\n",
            "Coefficients: \n",
            " [ 0.00000000e+00 -7.95075921e+01  1.61269189e+01  1.34105218e+01\n",
            "  1.51151946e+03 -7.60240992e+03  3.02378982e+03 -6.23051342e+00\n",
            " -5.65852619e+02  1.27034602e+02  4.46327467e+00 -4.26453804e+02\n",
            "  1.17433678e+01 -1.76545244e+02]\n"
          ]
        }
      ]
    },
    {
      "cell_type": "code",
      "source": [
        "#make predictions with testing set\n",
        "y_pred = regr_multi.predict(X_test)\n",
        "\n",
        "#make predictions with training set\n",
        "y_pred_train = regr_multi.predict(X_train)\n",
        "\n",
        "#ploting actual target values and predictions\n",
        "plt.plot(y_test, color='blue')\n",
        "plt.plot(y_pred, 'o', color='pink')\n",
        "\n",
        "num_data=X_multi.shape[0]\n",
        "\n",
        "# The RSE for testing set\n",
        "mse= metrics.mean_squared_error(y_test, y_pred)\n",
        "print('RSE for test set= ', math.sqrt(mse/(num_data-2)))\n",
        "# The coefficient of determination for testing set\n",
        "print('R2 for test set= ', metrics.r2_score(y_test,y_pred))"
      ],
      "metadata": {
        "colab": {
          "base_uri": "https://localhost:8080/",
          "height": 300
        },
        "id": "GxcRgqZICiuM",
        "outputId": "c08a816f-53f9-45c0-b83b-707b58450ab3"
      },
      "execution_count": 10,
      "outputs": [
        {
          "output_type": "stream",
          "name": "stdout",
          "text": [
            "RSE for test set=  0.22028632828361233\n",
            "R2 for test set=  0.7141337675422501\n"
          ]
        },
        {
          "output_type": "display_data",
          "data": {
            "image/png": "[encoded data removed]",
            "text/plain": [
              "<Figure size 432x288 with 1 Axes>"
            ]
          },
          "metadata": {
            "needs_background": "light"
          }
        }
      ]
    },
    {
      "cell_type": "code",
      "source": [
        "# The RSE for training set\n",
        "mse= metrics.mean_squared_error(y_train, y_pred_train)\n",
        "print('RSE for training set= ', math.sqrt(mse/(num_data-2)))\n",
        "# The coefficient of determination for training set\n",
        "print('R2 for training set= ', metrics.r2_score(y_train,y_pred_train))"
      ],
      "metadata": {
        "colab": {
          "base_uri": "https://localhost:8080/"
        },
        "id": "cZcl-UpTCnns",
        "outputId": "1acddda9-36e3-4955-cf51-cf1713f72d30"
      },
      "execution_count": 11,
      "outputs": [
        {
          "output_type": "stream",
          "name": "stdout",
          "text": [
            "RSE for training set=  0.21932530766492805\n",
            "R2 for training set=  0.7788274150319008\n"
          ]
        }
      ]
    },
    {
      "cell_type": "markdown",
      "source": [
        "2. Splitting dataset into 50% for training set and 50% for testing set\n",
        "\n",
        "\n"
      ],
      "metadata": {
        "id": "zwDK5xcgC1KW"
      }
    },
    {
      "cell_type": "code",
      "source": [
        "X_train1, X_test1, y_train1, y_test1= train_test_split(X_multi,y_multi, test_size=0.50, train_size=0.50, random_state=4)\n",
        "regr_multi = linear_model.LinearRegression()\n",
        "regr_multi.fit(X_train1, y_train1)\n",
        "y_pred1 = regr_multi.predict(X_test1)\n",
        "\n",
        "#make predictions with training set\n",
        "y_pred_train1 = regr_multi.predict(X_train1)\n",
        "\n",
        "\n",
        "# The RSE for testing set\n",
        "mse1= metrics.mean_squared_error(y_test1, y_pred1)\n",
        "print('RSE for testing set(1)= ', math.sqrt(mse1/(num_data-2)))\n",
        "# The coefficient of determination for testing set\n",
        "print('R2 for testing set(1)= ', metrics.r2_score(y_test1,y_pred1))"
      ],
      "metadata": {
        "colab": {
          "base_uri": "https://localhost:8080/"
        },
        "id": "i8kU41_6CuV3",
        "outputId": "f3f344ef-8a53-463d-f040-d161f3e96347"
      },
      "execution_count": 12,
      "outputs": [
        {
          "output_type": "stream",
          "name": "stdout",
          "text": [
            "RSE for test set(1)=  0.2562774467403183\n",
            "R2 for test set(1)=  0.6916468018768831\n"
          ]
        }
      ]
    },
    {
      "cell_type": "code",
      "source": [
        "# The RSE for training set\n",
        "mse= metrics.mean_squared_error(y_train1, y_pred_train1)\n",
        "print('RSE for training set(1)= ', math.sqrt(mse/(num_data-2)))\n",
        "# The coefficient of determination for training set\n",
        "print('R2 for training set(1)= ', metrics.r2_score(y_train1,y_pred_train1))"
      ],
      "metadata": {
        "colab": {
          "base_uri": "https://localhost:8080/"
        },
        "id": "qp-z9VskDYzd",
        "outputId": "f4c526b1-5f92-4dfb-a8e3-b87f3f39f115"
      },
      "execution_count": 14,
      "outputs": [
        {
          "output_type": "stream",
          "name": "stdout",
          "text": [
            "RSE for training set(1)=  0.1888860967335651\n",
            "R2 for training set(1)=  0.8320402401524656\n"
          ]
        }
      ]
    },
    {
      "cell_type": "markdown",
      "source": [
        "3. Splitting dataset into 66% for training set and 34% for testing set\n"
      ],
      "metadata": {
        "id": "UJsQHjAXDgBN"
      }
    },
    {
      "cell_type": "code",
      "source": [
        "X_train2, X_test2, y_train2, y_test2= train_test_split(X_multi,y_multi, test_size=0.34, train_size=0.66, random_state=6)\n",
        "regr_multi = linear_model.LinearRegression()\n",
        "regr_multi.fit(X_train2, y_train2)\n",
        "y_pred2 = regr_multi.predict(X_test2)\n",
        "\n",
        "#make predictions with training set\n",
        "y_pred_train2 = regr_multi.predict(X_train2)\n",
        "\n",
        "# The RSE for testing set\n",
        "mse2= metrics.mean_squared_error(y_test2, y_pred2)\n",
        "print('RSE for testing set(2)= ', math.sqrt(mse2/(num_data-2)))\n",
        "# The coefficient of determination for testing set\n",
        "print('R2 for testing set(2)= ', metrics.r2_score(y_test2,y_pred2))"
      ],
      "metadata": {
        "colab": {
          "base_uri": "https://localhost:8080/"
        },
        "id": "6oNYAjRXDc1O",
        "outputId": "2f8f342b-a247-48bd-9e66-6f9de843957d"
      },
      "execution_count": 15,
      "outputs": [
        {
          "output_type": "stream",
          "name": "stdout",
          "text": [
            "RSE for testing set(2)=  0.22633083983186614\n",
            "R2 for testing set(2)=  0.7484818001514397\n"
          ]
        }
      ]
    },
    {
      "cell_type": "code",
      "source": [
        "# The RSE for training set\n",
        "mse2= metrics.mean_squared_error(y_train2, y_pred_train2)\n",
        "print('RSE for training set(2)= ', math.sqrt(mse2/(num_data-2)))\n",
        "# The coefficient of determination for training set\n",
        "print('R2 for training set(2)= ', metrics.r2_score(y_train2,y_pred_train2))"
      ],
      "metadata": {
        "colab": {
          "base_uri": "https://localhost:8080/"
        },
        "id": "Y28gjC3dD0vB",
        "outputId": "b07efc0f-ea2c-490e-fdf4-850ca467da7f"
      },
      "execution_count": 16,
      "outputs": [
        {
          "output_type": "stream",
          "name": "stdout",
          "text": [
            "RSE for training set(2)=  0.21913241356076554\n",
            "R2 for training set(2)=  0.7786866193832097\n"
          ]
        }
      ]
    },
    {
      "cell_type": "markdown",
      "source": [
        "4. Splitting dataset into 95% for training set and 0.05% for testing set\n"
      ],
      "metadata": {
        "id": "2fsDWfSzEBEC"
      }
    },
    {
      "cell_type": "code",
      "source": [
        "X_train3, X_test3, y_train3, y_test3= train_test_split(X_multi,y_multi, test_size=0.05, train_size=0.95,random_state=9)\n",
        "regr_multi = linear_model.LinearRegression()\n",
        "regr_multi.fit(X_train3, y_train3)\n",
        "y_pred3 = regr_multi.predict(X_test3)\n",
        "\n",
        "#make predictions with training  set\n",
        "y_pred_train3 = regr_multi.predict(X_train3)\n",
        "\n",
        "\n",
        "# The RSE for testing set\n",
        "mse3= metrics.mean_squared_error(y_test3, y_pred3)\n",
        "print('RSE for testing set(3)= ', math.sqrt(mse3/(num_data-2)))\n",
        "# The coefficient of determination for testing set\n",
        "print('R2 for testing set(3)= ', metrics.r2_score(y_test3,y_pred3))"
      ],
      "metadata": {
        "colab": {
          "base_uri": "https://localhost:8080/"
        },
        "id": "rj_KyYrYD9ht",
        "outputId": "bc504d09-f05d-40b2-a8c8-18102ccb6eb6"
      },
      "execution_count": 17,
      "outputs": [
        {
          "output_type": "stream",
          "name": "stdout",
          "text": [
            "RSE for testing set(3)=  0.3818327884489436\n",
            "R2 for testing set(3)=  0.6657896076321045\n"
          ]
        }
      ]
    },
    {
      "cell_type": "code",
      "source": [
        "# The RSE for training set\n",
        "mse3= metrics.mean_squared_error(y_train3, y_pred_train3)\n",
        "print('RSE for training set(3)= ', math.sqrt(mse3/(num_data-2)))\n",
        "# The coefficient of determination for training set\n",
        "print('R2 for training set(3)= ', metrics.r2_score(y_train3,y_pred_train3))"
      ],
      "metadata": {
        "colab": {
          "base_uri": "https://localhost:8080/"
        },
        "id": "YCCWj3LRESDe",
        "outputId": "c9f99d60-e272-4afc-b9c5-a33b86a2cac9"
      },
      "execution_count": 18,
      "outputs": [
        {
          "output_type": "stream",
          "name": "stdout",
          "text": [
            "RSE for training set(3)=  0.20699591364211556\n",
            "R2 for training set(3)=  0.7854620371660379\n"
          ]
        }
      ]
    }
  ]
}